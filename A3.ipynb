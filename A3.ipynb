{
  "nbformat": 4,
  "nbformat_minor": 0,
  "metadata": {
    "colab": {
      "name": "A3.ipynb",
      "provenance": [],
      "collapsed_sections": [],
      "include_colab_link": true
    },
    "kernelspec": {
      "name": "python3",
      "display_name": "Python 3"
    }
  },
  "cells": [
    {
      "cell_type": "markdown",
      "metadata": {
        "id": "view-in-github",
        "colab_type": "text"
      },
      "source": [
        "<a href=\"https://colab.research.google.com/github/nandasantosa/Machine-Learning-32513-UTS/blob/master/A3.ipynb\" target=\"_parent\"><img src=\"https://colab.research.google.com/assets/colab-badge.svg\" alt=\"Open In Colab\"/></a>"
      ]
    },
    {
      "cell_type": "markdown",
      "metadata": {
        "id": "PtcojZpSZ5og",
        "colab_type": "text"
      },
      "source": [
        "# Assignment 3: Pitch and Plan for Solving a Domain Problem\n",
        "## 32513 Advanced Data Analytics Algorithms | Spring 2019\n",
        "\n",
        "### Fernanda Santosa 13406537\n",
        "\n",
        "\n",
        "### PROJECT TITLE \n",
        "Shrinkage Prevention for Medium to Large Brick-and-Click Business Model Retailers, Focusing on Inventory Management.\n",
        "\n",
        "\n",
        "### AIMS \n",
        "The overall aim of this project is to generate more suitable, efficient and effective ways of preventing inventory loss for brick-and-click retailers who integrate both in-store and online store experience. The proposed proposal specifically targeted for medium to the large retailer due to their needs of larger amount of inventory stocks. This project is divided into three objectives; (i) collect inventory records to be used in the data training set, (ii) evaluate data and perform classification based on the training set for further analysis, (iii) validate, deploy and evaluate. \n",
        "\n",
        "\n",
        "### BACKGROUND\n",
        "Data analytics is a prominent approach to gain profit in the retail industry. One remarkable feature is forecast demand, a well-known feature to analyze consumers' buying pattern and traffic activities. Forecast demand has been proven in boosting sales number for existing retailers (Liu et al 2013). Despite sales number is getting higher over the years, net profit might actually not as much as expected. This situation is caused by one of the other major aspects; shrinkage.<br>\n",
        "\n",
        "Shrinkage is the term in the retail industry that indicates loss of inventory, which causes major loss for the retail industry, stated by Tyco Retail Solution, a data-driven loss prevention company (Inside Retail Industry 2018). <br>\n",
        "\n",
        "Inventory loss, another name of shrinkage, demonstrates the difference between the real inventory and the recorded inventory. Shrinkage is usually caused by various major causes such as; shoplifting, employee theft, admin errors, return fraud, and others. Shoplifting holds almost 40% of overall inventory loss while employee thefts and admin errors carry around 20% to 30% of shrinkage. Return fraud and others cover the rest of inventory loss (Abbamonte 2018). <br>\n",
        "\n",
        "Existing retailers set higher prices of the product to cover shrinkage cost which is a big disadvantage for the customer which might be a better opportunity for other retailers to attract the similar targeted market with better price value. The end-product that customer needs to pay is caused by the inefficiency of inventory management which can be prevented with this proposed plan.\n",
        "\n",
        "\n",
        "### RESEARCH PROJECT\n",
        "\n",
        "#### Project Significance <br>\n",
        "\n",
        "Most of the customers are price-sensitive and always looking for the best value price. With the right shrinkage management, it can minimise the shrinkage prevention cost for the retailers and reduce the price of the end-product value for the customer, which is a win-win situation. <br>\n",
        "\n",
        "To push easier accessibility for the consumer, the retail industry provides two types of store experience; brick-and-mortar store or usually called as in-store, and online store. This emerging trend has boost sales performance yet many retailers find it difficult to deploy real-time products availability due to lack of attention in inventory management. Imagine if it is treated better, it prevents customers churn and gains customer loyalty (Abbamonte 2018). <br>\n",
        "\n",
        "\n",
        "#### Innovation <br>\n",
        "\n",
        "By utilising consumers' purchase data, machine learning can predict the inventory stocks in real-time (Faggella 2019). Installing cameras that are programmed to generate real-time products availability in factory, distributors and end-shelf. <br>\n",
        "\n",
        "Behavioural tracking can be used in the inventory stock area and the in-store. Despite it is widely used for recognising customers' buying behavioural pattern, it can generate the behavioural pattern of theft as well. By detecting the suspicious interaction between the human (employee or customers) and the products, it can demonstrate who is most likely performs theft. This theft behaviour pattern will be learned by the machine and it can recognise the similar theft behaviour pattern that can be effectively prevent shoplifting and employee theft for future use.<br>\n",
        "\n",
        "And if there is an odd pattern in the inventory record, the machine can generate the probability causes such as; suspected theft or admin errors. This approach is usually called anomaly detection which detects objects that are different from most of the objects, which is called outliers. While anomalies, other names of outliers, are usually removed in common machine learning approach, it is put as the greatest interest for anomaly detection. <br>\n",
        "\n",
        "\n",
        "#### Task Breakdown <br>\n",
        "(i) Collect inventory records and video surveillance as the dataset. <br>\n",
        "Image processing is used to analyse video surveillance footage. It consists of large, noise and unlabelled data which requires longer period of time to pre-process the dataset. <br>\n",
        "(ii) Analysing the data and perform classification action based on the training set <br>\n",
        "Anomaly detection requires previous datasets that have outliers which is more difficult to be adopted, as retailers do not expect to have any theft or admin errors in their inventory management. <br>\n",
        "(iii) Validate, deploy and evaluate <br>\n",
        "It requires multiple data training to set the machine learns about outliers behaviour. By putting the anomalies into ranks, it can generate a threat level of theft that supports the process of immediate action decision-making to prevent theft. <br>\n",
        "\n",
        "\n"
      ]
    },
    {
      "cell_type": "markdown",
      "metadata": {
        "id": "HnZvdaBoK_Te",
        "colab_type": "text"
      },
      "source": [
        "#### Gantt Chart<br>\n",
        "![alt text](https://github.com/nandasantosa/Machine-Learning-32513-UTS/blob/master/Gantt_Chart.png?raw=true)"
      ]
    },
    {
      "cell_type": "markdown",
      "metadata": {
        "id": "ielCJDZLK7Qa",
        "colab_type": "text"
      },
      "source": [
        "#### Expected Outcome and Benefits <br>\n",
        "The expected outcome generates an effective real-time inventory availability not only for the retailer but also for the customers. Shrinkage loss is efficiently prevented by installing the machine vision algorithm in inventory stock area as well as in-store. It minimises the adding price value of the end-product for the customers as well as minimise customer churn and gain customers' loyalty for the retailers. It supports loss prevention in retail as well as create more protection for the retail sales or individuals who work in-store dealing with theft, which has a high occurrence probability of violence. <br>\n",
        "\n",
        "### BUDGET \n",
        "![alt text](https://github.com/nandasantosa/Machine-Learning-32513-UTS/blob/master/Budget.png?raw=true)\n",
        "Inventory Database Management System Software - 45,000 AUD <br>\n",
        "Video CCTV Surveillance System - 4,000 AUD <br>\n",
        "Programmed CCTV Video Cameras - 15x1,600 AUD = 24,000 AUD <br>\n",
        "Contingency - 22,500 AUD <br>\n",
        "\n",
        "Inventory Manager - 70,000 AUD  <br>\n",
        "Database Administrator - 73,000 AUD <br> \n",
        "Network and System Administrator - 72,000 AUD  <br> \n",
        "Security Analyst - 75,000 AUD  <br>\n",
        "Data Scientist - 130,000 AUD  <br>\n",
        "\n",
        "\n",
        "Vary depends on size of the retail business, starting cost is roughly around 515,000 AUD. <br> <br>\n",
        "\n",
        "\n"
      ]
    },
    {
      "cell_type": "markdown",
      "metadata": {
        "id": "yb7qUk8bMWnI",
        "colab_type": "text"
      },
      "source": [
        "### PERSONNEL \n",
        "#### Inventory\n",
        "Focusing on inventory, these are the required systems that need to be installed within one-year timeframe:<br>\n",
        "\n",
        "##### Inventory Database Management System Software <br>\n",
        "Setting up new software for inventory database management usually costs around 30,000 AUD to 60,000 AUD. New Inventory Database Management System requires the updated version in order to support the analysis of current inventory database system. \n",
        "\n",
        "##### Video CCTV Surveillance System <br>\n",
        "Installing new CCTV Surveillance System, programmed by the data scientists, is required. This action is required in order to make new CCTV Surveillance System is compatible with the newly developed algorithm model. Setting up Video CCTV Surveillance System usually costs around 3,000 AUD to 5,000 AUD.\n",
        "\n",
        "##### Programmed CCTV Video Cameras <br>\n",
        "After CCTV Surveillance System is installed, the programmed CCTV Cameras will be installed, replacing the current ones. Depends on the inventory facility size and retail size. 4 video cameras with motion detector usually costs around 1,600 AUD. For this part, the budget amount varies. Since this proposed plan focuses on medium to large retail, it usually requires more than 15 video cameras and more.\n",
        "\n",
        "##### Contingency <br>\n",
        "Contingency is a known-unknown cost that has occurred in the past while the new system is being developed to replace the old system in this proposed project. Contingency cost usually takes around 5 to 10% of the total budget.<br><br>\n",
        "\n",
        "#### Required Roles \n",
        "To manage the inventory management system and ensure that the system is working smoothly, there are a few main roles require in the following list :\n",
        "\n",
        "##### Inventory Manager <br> \n",
        "Median annual salary usually starts around 61,000 AUD. This role controls the inventory for the business and responsible for managing the inventory department. For this certain role, it requires deeper knowledge in software and IT system since this proposed proposal integrates new inventory management algorithm model. This situation requires more developed skill that influences the  higher salary set, 70,000 AUD compare to annual salary around 61k for inventory manager role.\n",
        "\n",
        "\n",
        "##### Database Administrator <br>\n",
        "Median annual salary starts around 73,000 AUD. This IT role ensures the software of the database management system properly working. As the new system requires maintenance, frequent access to the system is necessary. This role also requires proficiency in managing the efficiency of the server and optimise the system performance. Security, configure and troubleshoot also part of their task roles.\n",
        "\n",
        "##### Network and System Administrator<br>\n",
        "Median annual salary starts around 72,000 AUD. This role is responsible for troubleshooting the software and hardware of the system. They also require to teach users who use the system and maintaining the IT inventories. This role works collaboratively with the Database Administrator.\n",
        "\n",
        "##### Security Analyst <br>\n",
        "Median annual salary starts around 75,000 AUD. This role is responsible for managing security and safety in IT-related issues. They implement the strategy of security system, policies and the procedures. Working with Data Scientist, they perform risk analysis and model testing.\n",
        "\n",
        "##### Data Scientist <br>\n",
        "Median annual salary starts around 110,000 AUD. This role is vital and highly required to develop the proposed plan model. The task is not limited to develop the new model, determine and build the new system based on the predictive analysis to find the most suitable approach for the business. Since the new system adopts anomaly detection, an unusual machine learning model, it requires well-expereinced data scientiest. Highly skilled data scientist influences the salary standard to 130,000 AUD compared to the median annual salary for data scientist around 110,000 AUD.\n",
        "\n",
        "\n",
        "### REFERENCES\n",
        "Abbamonte, K 2018, 'Loss Prevention: 4 Types of Retail Shrinkage and How to Prevent Them', Retail, 1 August, viewed 3 October 2019, < https://www.shopify.com.au/retail/loss-prevention-retail-shrinkage > <br>\n",
        "\n",
        "Fagella, D 2019, 'AI for Theft Prevention and Process Adherence – with Alan O’Herlihy from Everseen', Artificial Intelligence, emerj, 3 February, viewed 5 October 2019, < https://emerj.com/ai-podcast-interviews/ai-for-theft-prevention-everseen/ > <br>\n",
        "\n",
        "Fernandes, R 2019, 'Retail Science: Machine Learning Advances in Loss Prevention', Oracle, 27 March, viewed 5 October, < https://blogs.oracle.com/retail/retail-science:-machine-learning-advances-in-loss-prevention > <br>\n",
        "\n",
        "Howbert, J 2014, 'Anomaly Detection', Introduction to Machine Learning, viewed 8 October, University of Washington, < http://courses.washington.edu/css581/lecture_slides/18_anomaly_detection.pdf ><br>\n",
        "\n",
        "Inside Retail Australia 2018, 'Global shrinkage cost retailers nearly US$100 billion last year, says Tyco', Loss Prevention: 4 Types of Retail Shrinkage and How to Prevent Them,  News, 15 August, viewed 2 October 2019, < https://www.insideretail.com.au/news/global-shrinkage-cost-retailers-nearly-us100-billion-last-year-says-tyco-201808 > <br>\n",
        "\n",
        "Liu et al 2013, 'Sales Forecasting for Fashion Retailing Service Industry: A Review', Hindawi, 5 October 2013, viewed 3 October 2019,<https://www.hindawi.com/journals/mpe/2013/738675/><br>\n",
        "\n",
        "Paul, S 2019, 'Introduction to Anomaly Detection in Python', Machine Learning, Floydhub, 5 April, viewed 7 October, < https://blog.floydhub.com/introduction-to-anomaly-detection-in-python/ > <br>\n",
        "\n",
        "\n",
        "\n",
        "\n",
        "### VIDEO PITCH LINK\n",
        "\n",
        "https://youtu.be/39VqM1c2ygw\n",
        "\n",
        "### GITHUB LINK\n",
        "https://github.com/nandasantosa/Machine-Learning-32513-UTS/blob/master/A3.ipynb"
      ]
    }
  ]
}