{
  "nbformat": 4,
  "nbformat_minor": 0,
  "metadata": {
    "colab": {
      "name": "A2_Report_SantosaFernanda13406537_WilleamFelicia13464906_A2_32513.ipynb",
      "provenance": [],
      "collapsed_sections": [],
      "toc_visible": true,
      "include_colab_link": true
    },
    "kernelspec": {
      "name": "python3",
      "display_name": "Python 3"
    }
  },
  "cells": [
    {
      "cell_type": "markdown",
      "metadata": {
        "id": "view-in-github",
        "colab_type": "text"
      },
      "source": [
        "<a href=\"https://colab.research.google.com/github/nandasantosa/Machine-Learning-32513-UTS/blob/master/A2_Report_SantosaFernanda13406537_WilleamFelicia13464906_A2_32513.ipynb\" target=\"_parent\"><img src=\"https://colab.research.google.com/assets/colab-badge.svg\" alt=\"Open In Colab\"/></a>"
      ]
    },
    {
      "cell_type": "markdown",
      "metadata": {
        "id": "Bis7cVqaUHf0",
        "colab_type": "text"
      },
      "source": [
        "# Assignment 2 : Practical Machine Learning Project | 32513 Machine Learning Spring 2019"
      ]
    },
    {
      "cell_type": "markdown",
      "metadata": {
        "id": "MVg13BLwjAMG",
        "colab_type": "text"
      },
      "source": [
        "## Felicia Willeam 13464906<br> \n",
        "## Fernanda Santosa 13406537 "
      ]
    },
    {
      "cell_type": "markdown",
      "metadata": {
        "id": "MENLZu9nhB2B",
        "colab_type": "text"
      },
      "source": [
        "# Introduction"
      ]
    },
    {
      "cell_type": "markdown",
      "metadata": {
        "id": "8xYpMb40aTSD",
        "colab_type": "text"
      },
      "source": [
        "In this project, we use dataset that contains important elements to predict rainfall in Australia. The data that we are using is available on Kaggle and it was drawn from the Bureau of Meteorology Australia 2010. It contains daily observation of Australian weather from different weather station and there are 24 different attributes.  The rainfall observation occured in various locations throughout Australia in the last 10 years - 2008 to 2018. Australia is a land of extreme weather especially dryness. Based on Geoscience Australia, the extreme changes in a day have happened frequently in different regions of Australia. This practical machine learning project demonstrates the usage of trained model to predict whether it rained the next day or not which we set it as the target variable; RainTomorow."
      ]
    },
    {
      "cell_type": "markdown",
      "metadata": {
        "id": "TQ_OeQ6iUWOd",
        "colab_type": "text"
      },
      "source": [
        "# Exploration"
      ]
    },
    {
      "cell_type": "markdown",
      "metadata": {
        "id": "cLSoXDfyU8zl",
        "colab_type": "text"
      },
      "source": [
        "We started with a more simple and well-known machine learning model; Logistic Regression. \n",
        "\n",
        "Logistic Regression can be applied in practical applications to estimate the probability of certain even to two possible values; in this practical project 0 meaning Not Raining Tomorrow and 1 meaning Raining Tomorrow.  This model uses regression analysis which demonstrates a statistical process with the adoption of logistic function,  to a binary dependent variable. \n",
        "\n",
        "Regression analysis is highly used for prediction for forecasting. This analysis helps relationship understanding between the dependent variables and independent variables. Based on our observation, the existing variables in the dataset are heavily dependent on each other which hold major impact for our prediction analysis.\n",
        "\n",
        "Another method that we approached is neural network, it is one of the methods that allow the computer to learn from observational data. It is also not dependable on linear as it can recognise patterns in the dataset. Neural network also frequently used in today’s technology such as in business analytics, financial operations, forecasting and so on. Hence we would like to attempt trying this model to predict rainfall in Sydney.\n"
      ]
    },
    {
      "cell_type": "markdown",
      "metadata": {
        "id": "ai6oTBFPf_4G",
        "colab_type": "text"
      },
      "source": [
        "The dataset has 24 variables. Data understanding is required to create higher quality of training model, which generate better prediction. The information below shows the data type and its correlation between the existing variables."
      ]
    },
    {
      "cell_type": "markdown",
      "metadata": {
        "id": "GWkjm4VTgT4j",
        "colab_type": "text"
      },
      "source": [
        "**Date**              object <br>\n",
        "It conveys the date of observation and to analyse the weather pattern <br><br>\n",
        "\n",
        "**Location**          object<br>\n",
        "The common name of the location of the weather station. Australia is a large continent and each areas have various extreme conditions, depends on where they are located. Areas that located along the sea border or the continent have higher rainfall record. <br><br>\n",
        "\n",
        "**MinTemp**          float64<br>\n",
        "The minimum temperature in degrees celsius. The higher temperature in atmosphere may contain more water vapour(water in a form of gas or usually called as clouds) which increasing the chance of heavy showers.<br><br>\n",
        "\n",
        "**MaxTemp**         float64<br>\n",
        "  The maximum temperature in degrees celsius<br><br>\n",
        "\n",
        "**Rainfall**         float64<br> The amount of rainfall recorded for the day in mm. It uses milimeter measurement per square metre.<br><br>\n",
        "\n",
        "**Evaporation**      float64<br> The so-called Class A pan evaporation (mm) in the 24 hours to 9am. Evaporation occurs quicker in higher temperature. <br><br>\n",
        "\n",
        "**Sunshine**         float64<br> The number of hours of bright sunshine in the day. It warms the air which cause higher temperature. <br><br>\n",
        "\n",
        "**WindGustDir**       object <br> The direction of the strongest wind gust in the 24 hours to midnight.  Air moves north and south to try to equalize the pressure difference created by the temperature difference. The Earth rotates under this air, which deflects its direction (this is called the Coriolis Effect).<br><br>\n",
        "**WindGustSpeed**    float64 <br> The speed (km/h) of the strongest wind gust in the 24 hours to midnight. It increases the  level of soil moisture<br><br>\n",
        "\n",
        "**WindDir9am**        object <br> Direction of the wind at 9am. It influences where the rainfall might occur. <br><br>\n",
        "**WindDir3pm**        object <br> Direction of the wind at 3pm <br><br>\n",
        "**WindSpeed9am**     float64 <br>Wind speed (km/hr) averaged over 10 minutes prior to 9am. <br><br>\n",
        "**WindSpeed3pm**     float64 <br>Wind speed (km/hr) averaged over 10 minutes prior to 3pm.<br><br>\n",
        "**Humidity9am**      float64 <br>Humidity (percent) at 9am. It demonstrates moisture level which holds the major role in influencing the higher ocurrence of rainfall.<br><br>\n",
        "\n",
        "**Humidity3pm**      float64 <br>Humidity (percent) at 3pm.<br><br>\n",
        "\n",
        "**Pressure9am**      float64 <br>Atmospheric pressure (hpa) reduced to mean sea level at 9am. It tracks the changes of atmospheric pressure, influenced by the presence and movement of warmer and colder weather systems.<br><br>\n",
        "\n",
        "**Pressure3pm**     float64 <br>Atmospheric pressure (hpa) reduced to mean sea level at 3pm.<br><br>\n",
        "\n",
        "**Cloud9am**         float64 <br>Fraction of sky obscured by cloud at 9am. This is measured in \"oktas\", which are a unit of eigths. It records how many eigths of the sky are obscured by cloud. A 0 measure indicates completely clear sky whilst an 8 indicates that it is completely overcast.<br>\n",
        "<br>\n",
        "**Cloud3pm**         float64 <br>Fraction of sky obscured by cloud (in \"oktas\": eighths) at 3pm. See Cload9am for a description of the values.<br>\n",
        "<br>\n",
        "\n",
        "**Temp9am**          float64 <br> Temperature (degrees C) at 9am.<br><br>\n",
        "\n",
        "**Temp3pm**          float64<br> Temperature (degrees C) at 3pm.<br><br>\n",
        "\n",
        "**RainToday**         object Boolean: 1 if precipitation (mm) in the 24 hours to 9am exceeds 1mm, otherwise 0<br><br>\n",
        "\n",
        "**RISK_MM**          float64 The amount of next day rain in mm. Used to create response variable RainTomorrow. A kind of measure of the \"risk\".<br><br>\n",
        "\n",
        "**RainTomorrow**      object The target variable. Did it rain tomorrow."
      ]
    },
    {
      "cell_type": "markdown",
      "metadata": {
        "id": "rI01jECExeb_",
        "colab_type": "text"
      },
      "source": [
        "In order to create an unbiased model we will need to remove attribute 'RISK_MM'. RISK_MM means the amount of rainfall on the next day that includes all forms of percipitation that reach the ground such as rain, drizzle, hail and snow. RISK_MM contained information about the next day (future) for whether it rained or not, it also the attribute to actually determine whether or not it rained to create the binary target. "
      ]
    },
    {
      "cell_type": "markdown",
      "metadata": {
        "id": "Zj8Mj-54Ub6A",
        "colab_type": "text"
      },
      "source": [
        "# Methodology & Evaluation"
      ]
    },
    {
      "cell_type": "markdown",
      "metadata": {
        "id": "5SUDeQ9dtkRj",
        "colab_type": "text"
      },
      "source": [
        "The method that we will be using in the model training is Linear Regression and neural network/deep learning.\n",
        "\n",
        "### Logistic Regression\n",
        "From the initial exploration of the data resulting us in attempting to create the linear regression model to predict if the rain will occur or not for the next day. Firstly, we examined that the dataset contains categorical and numerical variables. We found that there are no missing values on the target variable; RainTomorrow. \n",
        "\n",
        "We checked the frequency distribution of RainTomorrow variables and found that ‘No’ value have much higher frequency compare to ‘Yes’ value. \n",
        "\n",
        "Hot Encoding process is required which consists step where some variables need to be converted to categorical variables. This step helps the ML algorithm to generate more accurate prediction. This process also requires a dummy variable to indicate the missing data.\n",
        "\n",
        "Heat map and pair plot are used in purpose to discover the patterns and relationship between the variables. We found the highly positive correlated variables;\n",
        "- `MinTemp` and `MaxTemp` \n",
        "- `MinTemp` and `Temp9am` \n",
        "- `MinTemp` and `Temp3pm`\n",
        "- `MaxTemp` and `Temp9am` \n",
        "- `MaxTemp` and `Temp3pm` \n",
        "- `WindGustSpeed` and `WindSpeed3pm` \n",
        "- `Pressure9am` and `Pressure3pm` \n",
        "- `Temp9am` and `Temp3pm`\n",
        "\n",
        "Next step, we split the data into training and test set. And we perform imputation of missing values in the training and test set with median values. Then we add two additional variables `RainToday_0` and `RainToday_1`, created from the `RainToday` variable.\n",
        "\n",
        "We also performed feature scaling to normalize the data.\n",
        "\n",
        "After data pre-processing, we applied the logistic regression model. The logistic regression model accuracy score is 0.8502.\n",
        "\n"
      ]
    },
    {
      "cell_type": "markdown",
      "metadata": {
        "id": "raKNAOU5VY2p",
        "colab_type": "text"
      },
      "source": [
        "### Neural Network\n",
        "\n",
        "We attempted to be more specific in solving the problem since Australia has different climate, in the northern part of Australia has more tropical influenced climate, whereas in the southern part are cooler and rainy winters.\n",
        "Hence if we are going to be specifically predicting a certain location it would probably give us a better result.\n",
        " \n",
        "We chose Sydney as the location for this model as we are based in Sydney, hence would be easier to understand. When we are preparing the data for neural network, we remove outliers in the data set using z-score and then change the Yes and No value to binary 1 and 0 on attributes RainToday and RainTomorrow.\n",
        "\n",
        "During pre-processing data, in Neural Network, we replace missing values with Median particularly in Evaporation and Sunshine attributes to generate more accurate predicition results. \n",
        "\n",
        "After that, we change the unique values in attributes WindGustDir, WindDir3pm, WindDir9am to binary, these steps will allow the model to read and understand the data.\n",
        " \n",
        "Then the data is normalized using MinMaxScaler, and then the data is ready to be split into 3 different sets, which are 80% training set, 10% valid set, and 10% test set.\n",
        " \n",
        "Using keras.tensorflow we created the neural model and run 10,000 times. Resulting in 79% accuracy. \n"
      ]
    },
    {
      "cell_type": "markdown",
      "metadata": {
        "id": "ILX1oCnLXZBd",
        "colab_type": "text"
      },
      "source": [
        "# Summary\n",
        "In this project we have successfully predict whether it did rain tomorrow or not by using the existing data set and build the model with Python. We also attempted in using different suitable algorithms to see which one works the best for this particular dataset; focusing on algorithm model to recognise a pattern such as Logistic Regression Model and Neural Network Deep Learning Model.\n",
        "\n",
        "When predicting with Logistic regression, we used all location in Australia from the dataset and we acquire 85% model accuracy score. The model has done a great job in predicting the rain and demonstrates no sign of overfitting. \n",
        "\n",
        "We attempted to use more powerful tool for our machine learning modeling, Neural Network with more focused data - limited to Sydney location. We tried to train a model using neural networks to predict rain in Sydney that gives us a lower accuracy which is only around 79%. This could be because a smaller number of data in Sydney area (only 1690 data points compared to all location containing 142193 data points). However when tested on Decision Tree model it also resulted in 79% accuracy."
      ]
    },
    {
      "cell_type": "markdown",
      "metadata": {
        "id": "LbVqEtYD6LYx",
        "colab_type": "text"
      },
      "source": [
        "#Conclusion"
      ]
    },
    {
      "cell_type": "markdown",
      "metadata": {
        "id": "o7P0844cc-nd",
        "colab_type": "text"
      },
      "source": [
        "Possible improvements can be done by combining the logistic regression and Deep Neural Network, to carry out predicition that requires binary classification tasks. We found that statistical method that closely parallels with neural networks is logistic regression.\n",
        "\n",
        "Despite we have limited ability in using Python, we are encouraged to explore the possibilities of how data exploration can be done in various way in Python. For this practical project, we are predicting the occurence of rain based on the relationship between the existing variables on the dataset. Our unfamiliarity with the rainfall terms and the relationship between each in result of rain influences our progress in data understanding and how we implement it to the trained model."
      ]
    },
    {
      "cell_type": "markdown",
      "metadata": {
        "id": "eeFnl7HBgdKW",
        "colab_type": "text"
      },
      "source": [
        "# Ethical"
      ]
    },
    {
      "cell_type": "markdown",
      "metadata": {
        "id": "CT8WRqCnkDQE",
        "colab_type": "text"
      },
      "source": [
        "Despite that we have high number of accuracy and acquire great performance from the model that we trained, it does not mean that we are 100% accurate in predicting rain since there are missing values. \n",
        "\n",
        "These algorithms are nowhere near perfect, however it may be able to open a different approaches to weather prediction. If in the future only relying heavily on one algorithm it may be misused to predict false weather or climate change predictions.\n",
        "\n",
        "On the other hand, our approach in getting rainfall prediction might have bigger impact for existing businesses, especially in finance industry.\n",
        "\n",
        "Rainfall might be put as the consideration for weather risk-related calculation related with natural disaster in insurance risk calculation. Weather-related events holds severe impacts for business' operation, transports, cost and their profits.\n",
        "\n",
        "As we have mentioned above, Australia has extreme weather changes which has caused unfortunate weather events such as floods, storm and cyclone. Based on Australian Financial Review, extreme weather risk holds major role for major insurers' profit, especially for the these last two years. \n",
        "\n",
        "Aside for profit business, our rainfall prediction is also helpful for non-profit organisation to fight climate changes in social context, especially in data exploration process where data visualisation might be really helpful to demonstrate the rainfall prediction.\n",
        "\n",
        "\n",
        "\n"
      ]
    },
    {
      "cell_type": "markdown",
      "metadata": {
        "id": "MYK9vVU1k-WL",
        "colab_type": "text"
      },
      "source": [
        "## References\n",
        "Allianz, 2011. *Allianz offers alternative solution for weather protection*, Sydney, <https://www.allianz.com.au/media/news/2011/alternative-solution-for-weather-protection><br>\n",
        "\n",
        "Britt, R. 2005. *Weather 101: All About Wind and Rain*, Live Science, viewed 17 September 2019, <https://www.livescience.com/407-weather-101-wind-rain.html><br>\n",
        "\n",
        "Fernyhough, J. 2019. *Australian insurers say 'act now' on climate change*, Australian Financial Review,\n",
        "<https://www.afr.com/companies/financial-services/australian-insurers-say-act-now-on-climate-change-20190221-h1bjck><br>\n",
        "\n",
        "Lowe, C. 2018. *Weather Instruments & Their Uses*, Sciencing, viewed 10 September 2019, <https://sciencing.com/weather-instruments-uses-8013246.html> <br>\n",
        "\n",
        "Weather Online, 2019. Australia, viewed 17 September 2019, <https://www.weatheronline.co.uk/reports/climate/Australia.html<br>\n",
        "\n"
      ]
    }
  ]
}