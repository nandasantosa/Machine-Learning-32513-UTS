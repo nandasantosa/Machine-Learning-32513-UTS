{
  "nbformat": 4,
  "nbformat_minor": 0,
  "metadata": {
    "kernelspec": {
      "display_name": "Python 3",
      "language": "python",
      "name": "python3"
    },
    "language_info": {
      "codemirror_mode": {
        "name": "ipython",
        "version": 3
      },
      "file_extension": ".py",
      "mimetype": "text/x-python",
      "name": "python",
      "nbconvert_exporter": "python",
      "pygments_lexer": "ipython3",
      "version": "3.5.4"
    },
    "toc": {
      "base_numbering": 1,
      "nav_menu": {},
      "number_sections": true,
      "sideBar": true,
      "skip_h1_title": false,
      "title_cell": "Table of Contents",
      "title_sidebar": "Contents",
      "toc_cell": false,
      "toc_position": {},
      "toc_section_display": true,
      "toc_window_display": false
    },
    "colab": {
      "name": "SantosaFernanda_13406537_A1_32513.ipynb",
      "version": "0.3.2",
      "provenance": [],
      "collapsed_sections": []
    }
  },
  "cells": [
    {
      "cell_type": "markdown",
      "metadata": {
        "id": "jN-KUN9jYQ3A",
        "colab_type": "text"
      },
      "source": [
        "# Review Report on Eigenfaces vs. Fisherfaces: Recognition Using Class Specific Linear Projection\n"
      ]
    },
    {
      "cell_type": "markdown",
      "metadata": {
        "id": "bk7nDr4FYQ3C",
        "colab_type": "text"
      },
      "source": [
        "## Introduction\n",
        "\n",
        "Face recognition system has becoming one of the most prominent technology in twenty first century. Traditional face recognition has been developed to be unsusceptible from small variation in lighting and facial expressions. On the paper written by Belhumeur et al (1997), this report proposes new method of face recognition by combining the existing methods. It compares each methods’ performance and error rates. Variation in lighting, facial expressions, and eye wear are being used as in the authors’ experiments. This paper proposes a new development in face recognition algorithm that is unsusceptible with variation of lighting direction and facial expression. Linear projection is used in this methodology where images are put on the low-dimensional subspace which requires classification technique. \n",
        "\n",
        "Face recognition usually performed in high dimensional space generates inaccuracy results due to shadows, reflections and facial expressions. The proposed method implements lower dimensional space in the face recognition system which less susceptible with variant influences of lighting direction and facial expression.  Belhumeur et al (1997) adopts Fisherfaces and Eigenface for their onward approach. Both methods are based on linear projection and implement classification. Scatters within classes and between classes are being considered, involving Principal Component Analysis (PCA). The paper also mentioned previous work from Moses et al (1994) stating that face identity has less variants compares to lighting illumination and direction view, which also being taken into the authors’ attention. "
      ]
    },
    {
      "cell_type": "markdown",
      "metadata": {
        "id": "i3IVnqArYQ3D",
        "colab_type": "text"
      },
      "source": [
        "## Content"
      ]
    },
    {
      "cell_type": "markdown",
      "metadata": {
        "id": "L6u0W7SofmLN",
        "colab_type": "text"
      },
      "source": [
        "**Methods** <br>\n",
        "The following methods employs a set of face images; face image with identities which is the learning set and the ones without identities for the test set. Correlation and Eigenfaces are the two popular methods while Linear Subspaces and Fisherfaces are considered as the alternative approaches. In purpose to solve face recognition issue, the authors consider these four methods for their new method development.  \n",
        "\n",
        "1. Correlation <br>\n",
        "Correlation adopts nearest neighbour classification by assigning the best correlated image from the learning set with the test set. Normalization process is used in purpose to generates data which is susceptible from the light source and the intensity. Despite it creates the data to be more independent from light source intensity, this method has several drawbacks. Due to varying light conditions. It generates loose cluster data where the data is not well-grouped meaning that learning set requires more training with possible lighting conditions in advance. This method also demands considerable amount of time, power, and processing memory since the learning set requires considerable amount of storage to save images of each face.  \n",
        "\n",
        "2. Eigenfaces <br> \n",
        "To prevent the usage of numerous room of storage, Eigenfaces performs dimensionality reduction in face recognition. This technique is called as Principal Component Analysis (PCA). It maximizes the scatter between-classes of the samples in purpose to characterize the features between the face images. However, this action generates unwanted information and might not reliable due to poor clustered data caused by the variation of lighting direction. The worst consequence would be loss of useful information. \n",
        "\n",
        "3. Linear Subspaces  <br>\n",
        "This method adopts Lambertian surface which diffuse even reflection of lighting. Simple classification algorithm is implemented by using more than three images with different lighting directions in order to create 3D basis linear subspace. With purpose to attain face recognition, this method calculates the distance of the new image to each linear subspace and select the face from the shortest distance. Noise or shadowing would prevent an error-free classification from lighting condition variation but due to self-shadowing and facial expressions, the data is not compatible with linear subspace model. This method also requires plenty number of images that requires huge amount of time, storage, and effort.  \n",
        "\n",
        "4. Fisherfaces <br>\n",
        "Fisherfaces employs Fisher's Linear Discriminant (FLD) method that has the same mechanism with Linear Discriminant Analysis (LDA). Face image recognition is obtained by reducing the space dimensions and applying statistical technique, PCA. This action is required in order to make lighting variants becomes unsusceptible in the process of face identification. Class specification is necessary as it benefits the process of creating reliable information while LDA acts as a pattern classifier for scatters in-within classes and between classes.  \n",
        "\n",
        "**Experimental Results**  <br>\n",
        "The conducted experiments used two database sources; Harvard Robotic Laboratory and Yale. Variants of lighting were used for both experiments while facial expression variations are only applied on Yale database.  \n",
        "\n",
        "1. Variation in Lighting  <br>\n",
        "This experiment tests whether lighting illumination whether or not support better face recognition. Face is being projected with different angle of lighting with 15 degrees difference of camera axis, placed near frontal lighting illumination. Nearest neighbour classifier was being implemented in this experiment and normalization was performed for Eigenface and correlation methods. This action is applied for obtaining better results. The outcome shows that frontal illumination generates accurate face algorithm. Eigenface method produces better results if dimension space could be increased, which generates lower error rates. Despite Linear Subspace shows lower error rates compare to Eigenface and Correlation, it requires bigger storage to store more information that requires more time. Fisherface displays the lowest error rate among all methods which employs shorter period of time in data processing. \n",
        "\n",
        "2. Variation in Facial Expression, Eye Wear and Lighting  <br>\n",
        "This experiment conducted comparison between all methods by applying variants of condition in facial expression, eyewear and lighting condition. Face is specifically illuminated from different light positions. Similar with the previous experiment, normalization was applied for Eigenface and Correlation methods with intention for gaining better results. To gain more accurate error rates, dimensional space reduction was conducted for better classification. Nearest neighbour classifier is also applied. Note for Eigenfaces method, principal component reduction would generate better performance, proven by less error rate results. In result, linear subspace shows worse performance compare to last experiment due to the usage of facial expression since the image is not placed on the linear subspace anymore. Among all methods, Fisherface demonstrates best performance in dealing with variants of lighting, facial expression and eyewear. It demonstrates much better performance compare to previous experiment due to the usage of full face images which generates better face recognition algorithm. The pixels helps the individual characterisation process.  \n",
        "\n",
        "3. Glasses Recognition  <br>\n",
        "This experiment employs two image classes; with and without glasses. Cross validation classification was performed in order to validate the face images. In the learning set, PCA distributes the images; with and without glasses into one class while Fisherface only focuses on discovering the glasses and overlooked other elements. The outcome demonstrates much lower error rates in Fisherface compare to PCA method. \n",
        "<br>\n",
        "In conclusion, all methods perform sufficiently well if the images in the test set is similiar with the ones in the training set. In first experiment,  Fisherface performs the best among all methods especially in dealing with variants of lighting while linear subspaces comes second. Eigenface performs worst and it would generate better performance if it removed the used components I.e the first biggest three component.  Among all methods, Fisherfaces demonstrates best performance in dealing with variants of condition; lighting and facial expression.  "
      ]
    },
    {
      "cell_type": "markdown",
      "metadata": {
        "id": "TaEmwtpLYQ3E",
        "colab_type": "text"
      },
      "source": [
        "## Innovation"
      ]
    },
    {
      "cell_type": "markdown",
      "metadata": {
        "id": "iq3aXnHsYQ3F",
        "colab_type": "text"
      },
      "source": [
        "Refer to the conducted experiments, machine intelligence industry was already familiar with Eigenfaces and Linear Discriminant Analysis (LDA) as the traditional methods of face recognition algorithm. Face recognition usually produced inaccurate results due to shadows, reflection and face recognition issues. As mentioned above, Fisher Discriminant Analysis is the generalisation of LDA. Belhumeur at al (1997) proposed this creative idea where they combined the PCA with LDA which is called as Fisherfaces method. \n",
        "\n",
        "The suggested innovation implements lower dimensional space. This situation leads face recognition system is no longer susceptible with variant influences of lighting direction and facial expression.The authors used different sources of lighting direction and performed four methods comparison; Correlation, Eigenface, Linear subspace and Fisherface. The outcome shows that Fisherfaces has a tendency in ignoring elements that has high variants e.g. mouth in facial expression. By minimising within-class scatter, it projects directions to generate great face recognition system. By applying these techniques, more accurate face recognition system would support great innovation onward. "
      ]
    },
    {
      "cell_type": "markdown",
      "metadata": {
        "id": "gbmtcPPKYQ3G",
        "colab_type": "text"
      },
      "source": [
        "## Technical quality"
      ]
    },
    {
      "cell_type": "markdown",
      "metadata": {
        "id": "B2fvrK4tYQ3G",
        "colab_type": "text"
      },
      "source": [
        "This paper potrays high quality technical development due to various reasons. First, the authors consider multiple techniques in order to generate better results; dimensional space reduction, normalisation and classification. These techniques are implemented in purpose to discover more accurate results. Second, the authors also applied variants of condition in lighting direction, facial expression and eyewear on the performed experiments. It generates greater understanding for them and the reader, which is provided with mathematical formula. This situation shows how detailed and thorough when they conducted these experiments. Third, they combined the existing methods of face recognition system which would create a prospective method for more innovative face recognition system onward.   \n",
        "\n",
        "The authors support the Fisherface theory by using the idea of discriminant analysis. It generates the best feature of classes and differentiate between the two classes. It performs data reduction with purpose to differentiate between the classes for the training set, which is the training dataset on this case. \n",
        "\n",
        "The concept behind Fisherface is measuring the variance of the classes. LDA and PCA performs linear transformation for dimensionality reduction. PCA adopts unsupervised learning and maximise the variants between the dataset. While LDA is supervised learning where maximise the between-classes separation. This method produces the class evenly distributed and assumed that the the data is normalised. "
      ]
    },
    {
      "cell_type": "markdown",
      "metadata": {
        "id": "l6Us09NSYQ3H",
        "colab_type": "text"
      },
      "source": [
        "## Application and X-factor"
      ]
    },
    {
      "cell_type": "markdown",
      "metadata": {
        "id": "Sk9nsT74YQ3H",
        "colab_type": "text"
      },
      "source": [
        "The proposed method provides combination of the existing face recognition algorithms. Data is derived from the learning set,  and each component from the image face is being correlated with the images on test dataset. Despite different lighting conditions have been used in these experiments, forward experiments have to be extended on larger data base with more extreme lighting variation.\n",
        "\n",
        "This method can be considered as the core of machine learning. Face recognition demonstrates image analysis and understanding. Similiarity measures were performed in order to measure the distance between the data, while LDA discriminating the classes. This similiarity measures is used as a guideline for future face recognition system. It increases the efficiency for verification purposes especially for ID and security by using fuzzy classifier, simply by determining whether this particular of component is part from the image. \n",
        "\n",
        "As Fisherface acts as one of traditional method, 3D Face Analysis Algorithm has achieved higher accuracy which is applied in nowadays world. Skin analysis and combining it togerther with 3D Facial Analysis have widely spread on noawadays personal use such as in social media, identification, and smartphone. For example, iPhone currently uses True Depth System, combination of cameras, sensors, and projected illumination. \n",
        "\n",
        "\n",
        "\n",
        "\n",
        "\n"
      ]
    },
    {
      "cell_type": "markdown",
      "metadata": {
        "id": "RsO4GA9AYQ3I",
        "colab_type": "text"
      },
      "source": [
        "## Presentation"
      ]
    },
    {
      "cell_type": "markdown",
      "metadata": {
        "id": "zttS9xxVYQ3I",
        "colab_type": "text"
      },
      "source": [
        "The overall presentation of this paper is clear as it demonstrates well-explained techniques in implementing the steps on their experiments. They also display the results on its method performance. Due to my lack of knowledge of pattern analysis and machine intelligence, I had to read the paper multiple times and search for unfamiliar terms that I have never explored. This paper could be more engaging if the authors explained an essential understanding of statistic and linear understanding, which supports general understanding of Principal Component Analysis and Linear Discriminant Analysis. This understanding would definitely support my ability in following Eigenface and Fisherfaces methods. By using simple illustrations and guides for the mathematic formulas, this paper would generate better presentation. "
      ]
    },
    {
      "cell_type": "markdown",
      "metadata": {
        "id": "9ilamM3zYQ3J",
        "colab_type": "text"
      },
      "source": [
        "## References\n",
        "References <br>\n",
        "\n",
        "Lin. D (2014). *Multi-class Linear Discriminant Analysis*, viewed 14 August 2018, <https://multivariatestatsjl.readthedocs.io/en/latest/mclda.html>\n",
        "\n",
        "Rashcka, S. (2014). *Linear Discriminant Analysis*, viewed 10 August 2018, <https://sebastianraschka.com/Articles/2014_python_lda.html>\n",
        "\n",
        "El-Sayed & Hamed (2015). 'Study of Similarity Measures with Linear Discriminant Analysis for Face Recognition'. *Journal of Software Engineering and Applications*, Vol.08 No.09, viewed 27 August 2018, <http://www.scirp.org/html/4-9302092_59616.htm>."
      ]
    }
  ]
}